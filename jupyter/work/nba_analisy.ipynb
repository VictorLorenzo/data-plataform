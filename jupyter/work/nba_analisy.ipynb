{
 "cells": [
  {
   "cell_type": "code",
   "execution_count": 22,
   "id": "d30cdc52-aef9-4ec1-8ae1-56332c669d49",
   "metadata": {},
   "outputs": [
    {
     "data": {
      "text/html": [
       "<style>pre { white-space: pre !important; }</style>"
      ],
      "text/plain": [
       "<IPython.core.display.HTML object>"
      ]
     },
     "metadata": {},
     "output_type": "display_data"
    }
   ],
   "source": [
    "from pyspark.sql import SparkSession\n",
    "from IPython.core.display import HTML\n",
    "display(HTML(\"<style>pre { white-space: pre !important; }</style>\"))"
   ]
  },
  {
   "cell_type": "code",
   "execution_count": 23,
   "id": "aa4c2700-6af0-4869-b286-c42c2f4acb09",
   "metadata": {},
   "outputs": [],
   "source": [
    "spark = (SparkSession.builder\n",
    "    .appName(\" jupyter notebook\")\n",
    "    .enableHiveSupport()\n",
    "    .getOrCreate()\n",
    ")"
   ]
  },
  {
   "cell_type": "code",
   "execution_count": 24,
   "id": "5884fc6a-7b05-460c-b007-d174c7e355f4",
   "metadata": {},
   "outputs": [
    {
     "data": {
      "text/html": [
       "\n",
       "            <div>\n",
       "                <p><b>SparkSession - hive</b></p>\n",
       "                \n",
       "        <div>\n",
       "            <p><b>SparkContext</b></p>\n",
       "\n",
       "            <p><a href=\"http://395b92a0a7be:4040\">Spark UI</a></p>\n",
       "\n",
       "            <dl>\n",
       "              <dt>Version</dt>\n",
       "                <dd><code>v3.4.1</code></dd>\n",
       "              <dt>Master</dt>\n",
       "                <dd><code>spark://spark-master:7077</code></dd>\n",
       "              <dt>AppName</dt>\n",
       "                <dd><code> jupyter notebook</code></dd>\n",
       "            </dl>\n",
       "        </div>\n",
       "        \n",
       "            </div>\n",
       "        "
      ],
      "text/plain": [
       "<pyspark.sql.session.SparkSession at 0x70b749aeb9a0>"
      ]
     },
     "execution_count": 24,
     "metadata": {},
     "output_type": "execute_result"
    }
   ],
   "source": [
    "spark"
   ]
  },
  {
   "cell_type": "code",
   "execution_count": 37,
   "id": "a0ba463f-5fbf-4ed5-92d1-914df9efc2a4",
   "metadata": {},
   "outputs": [
    {
     "name": "stdout",
     "output_type": "stream",
     "text": [
      "+----------+\n",
      "|namespace |\n",
      "+----------+\n",
      "|default   |\n",
      "|nba_bronze|\n",
      "+----------+\n",
      "\n"
     ]
    }
   ],
   "source": [
    "spark.sql(\"SHOW SCHEMAS\").show(truncate=False)"
   ]
  },
  {
   "cell_type": "code",
   "execution_count": 38,
   "id": "4a6b6366-b4e8-4ed7-8bbb-2ff969d8e148",
   "metadata": {},
   "outputs": [
    {
     "name": "stdout",
     "output_type": "stream",
     "text": [
      "+----------+---------+-----------+\n",
      "|namespace |tableName|isTemporary|\n",
      "+----------+---------+-----------+\n",
      "|nba_bronze|nba      |false      |\n",
      "+----------+---------+-----------+\n",
      "\n"
     ]
    }
   ],
   "source": [
    "spark.sql(\"SHOW TABLES FROM nba_bronze\").show(truncate=False)"
   ]
  },
  {
   "cell_type": "code",
   "execution_count": 39,
   "id": "d1f94940-21ae-4cf0-9589-d874f2249483",
   "metadata": {},
   "outputs": [],
   "source": [
    "#spark.sql(\"DROP TABLE nba_bronze.nba\").show(truncate=False)"
   ]
  },
  {
   "cell_type": "code",
   "execution_count": 40,
   "id": "050b53a7-7be3-41b0-8f92-88419a5c619d",
   "metadata": {},
   "outputs": [
    {
     "name": "stdout",
     "output_type": "stream",
     "text": [
      "+--------+--------+----------+----------------------+---------+---------------------+--------------+--------+----------+--------+---------+---------+-----------+---------+--------------------------+--------------+---------------------+-----------------+--------+---------------+-------------------+-----------------+-------------+-------+---------+---------+--------------------------------------------------------------+--------------------------+\n",
      "|SEASON_1|SEASON_2|TEAM_ID   |TEAM_NAME             |PLAYER_ID|PLAYER_NAME          |POSITION_GROUP|POSITION|GAME_DATE |GAME_ID |HOME_TEAM|AWAY_TEAM|EVENT_TYPE |SHOT_MADE|ACTION_TYPE               |SHOT_TYPE     |BASIC_ZONE           |ZONE_NAME        |ZONE_ABB|ZONE_RANGE     |LOC_X              |LOC_Y            |SHOT_DISTANCE|QUARTER|MINS_LEFT|SECS_LEFT|_filename                                                     |_bronze_created_at        |\n",
      "+--------+--------+----------+----------------------+---------+---------------------+--------------+--------+----------+--------+---------+---------+-----------+---------+--------------------------+--------------+---------------------+-----------------+--------+---------------+-------------------+-----------------+-------------+-------+---------+---------+--------------------------------------------------------------+--------------------------+\n",
      "|2022    |2021-22 |1610612755|Philadelphia 76ers    |1629003  |Shake Milton         |G             |SG      |04-10-2022|22101228|PHI      |DET      |Made Shot  |true     |Running Layup Shot        |2PT Field Goal|Restricted Area      |Center           |C       |Less Than 8 ft.|0.21               |6.035            |3            |4      |3        |5        |s3a://datalake-landing/datalake-raw-nba/nba/NBA_2022_Shots.csv|2025-06-02 18:56:41.957619|\n",
      "|2022    |2021-22 |1610612750|Minnesota Timberwolves|1630233  |Nathan Knight        |F             |PF      |04-10-2022|22101224|MIN      |CHI      |Made Shot  |true     |Dunk Shot                 |2PT Field Goal|Restricted Area      |Center           |C       |Less Than 8 ft.|0.01               |5.825            |0            |4      |10       |5        |s3a://datalake-landing/datalake-raw-nba/nba/NBA_2022_Shots.csv|2025-06-02 18:56:41.957619|\n",
      "|2022    |2021-22 |1610612745|Houston Rockets       |1630231  |Kenyon Martin Jr.    |F             |SF      |04-10-2022|22101221|HOU      |ATL      |Missed Shot|false    |Jump Shot                 |3PT Field Goal|Above the Break 3    |Right Side Center|RC      |24+ ft.        |1.54               |7.985            |26           |3      |2        |44       |s3a://datalake-landing/datalake-raw-nba/nba/NBA_2022_Shots.csv|2025-06-02 18:56:41.957619|\n",
      "|2022    |2021-22 |1610612747|Los Angeles Lakers    |1628370  |Malik Monk           |G             |SG      |04-10-2022|22101220|DEN      |LAL      |Missed Shot|false    |Pullup Jump shot          |3PT Field Goal|Above the Break 3    |Right Side Center|RC      |24+ ft.        |1.41               |8.055            |26           |3      |10       |46       |s3a://datalake-landing/datalake-raw-nba/nba/NBA_2022_Shots.csv|2025-06-02 18:56:41.957619|\n",
      "|2022    |2021-22 |1610612764|Washington Wizards    |203526   |Raul Neto            |G             |PG      |04-10-2022|22101217|CHA      |WAS      |Made Shot  |true     |Running Layup Shot        |2PT Field Goal|Restricted Area      |Center           |C       |Less Than 8 ft.|-0.13              |5.785            |1            |2      |2        |10       |s3a://datalake-landing/datalake-raw-nba/nba/NBA_2022_Shots.csv|2025-06-02 18:56:41.957619|\n",
      "|2022    |2021-22 |1610612751|Brooklyn Nets         |1630556  |Kessler Edwards      |F             |SF      |04-10-2022|22101216|BKN      |IND      |Missed Shot|false    |Driving Floating Jump Shot|2PT Field Goal|Mid-Range            |Left Side        |L       |8-16 ft.       |-1.09              |5.945            |11           |2      |3        |12       |s3a://datalake-landing/datalake-raw-nba/nba/NBA_2022_Shots.csv|2025-06-02 18:56:41.957619|\n",
      "|2022    |2021-22 |1610612762|Utah Jazz             |1626220  |Royce O'Neale        |F             |SF      |04-10-2022|22101230|POR      |UTA      |Missed Shot|false    |Jump Shot                 |3PT Field Goal|Above the Break 3    |Right Side Center|RC      |24+ ft.        |2.29               |6.675            |24           |2      |4        |31       |s3a://datalake-landing/datalake-raw-nba/nba/NBA_2022_Shots.csv|2025-06-02 18:56:41.957619|\n",
      "|2022    |2021-22 |1610612752|New York Knicks       |1630193  |Immanuel Quickley    |G             |PG      |04-10-2022|22101226|NYK      |TOR      |Missed Shot|false    |Jump Shot                 |3PT Field Goal|Above the Break 3    |Left Side Center |LC      |24+ ft.        |-1.19              |8.094999999999999|26           |2      |0        |58       |s3a://datalake-landing/datalake-raw-nba/nba/NBA_2022_Shots.csv|2025-06-02 18:56:41.957619|\n",
      "|2022    |2021-22 |1610612749|Milwaukee Bucks       |1629670  |Jordan Nwora         |F             |SF      |04-10-2022|22101218|CLE      |MIL      |Missed Shot|false    |Jump Shot                 |3PT Field Goal|Left Corner 3        |Left Side        |L       |24+ ft.        |-2.4               |5.985            |24           |2      |6        |4        |s3a://datalake-landing/datalake-raw-nba/nba/NBA_2022_Shots.csv|2025-06-02 18:56:41.957619|\n",
      "|2022    |2021-22 |1610612748|Miami Heat            |203506   |Victor Oladipo       |G             |SG      |04-10-2022|22101227|ORL      |MIA      |Made Shot  |true     |Step Back Jump shot       |3PT Field Goal|Above the Break 3    |Right Side Center|RC      |24+ ft.        |0.91               |8.315            |26           |2      |3        |35       |s3a://datalake-landing/datalake-raw-nba/nba/NBA_2022_Shots.csv|2025-06-02 18:56:41.957619|\n",
      "|2022    |2021-22 |1610612753|Orlando Magic         |1630181  |R.J. Hampton         |G             |SG      |04-10-2022|22101227|ORL      |MIA      |Made Shot  |true     |Step Back Jump shot       |3PT Field Goal|Above the Break 3    |Left Side Center |LC      |24+ ft.        |-1.9               |7.435            |25           |2      |10       |14       |s3a://datalake-landing/datalake-raw-nba/nba/NBA_2022_Shots.csv|2025-06-02 18:56:41.957619|\n",
      "|2022    |2021-22 |1610612759|San Antonio Spurs     |1630200  |Tre Jones            |G             |PG      |04-10-2022|22101219|DAL      |SAS      |Made Shot  |true     |Driving Floating Jump Shot|2PT Field Goal|In The Paint (Non-RA)|Left Side        |L       |8-16 ft.       |-0.53              |6.555            |9            |1      |0        |43       |s3a://datalake-landing/datalake-raw-nba/nba/NBA_2022_Shots.csv|2025-06-02 18:56:41.957619|\n",
      "|2022    |2021-22 |1610612754|Indiana Pacers        |1629052  |Oshae Brissett       |F             |SF      |04-10-2022|22101216|BKN      |IND      |Missed Shot|false    |Jump Shot                 |3PT Field Goal|Above the Break 3    |Center           |C       |24+ ft.        |-0.4900000000000001|8.235            |25           |1      |8        |27       |s3a://datalake-landing/datalake-raw-nba/nba/NBA_2022_Shots.csv|2025-06-02 18:56:41.957619|\n",
      "|2022    |2021-22 |1610612752|New York Knicks       |1630193  |Immanuel Quickley    |G             |PG      |04-10-2022|22101226|NYK      |TOR      |Missed Shot|false    |Driving Layup Shot        |2PT Field Goal|Restricted Area      |Center           |C       |Less Than 8 ft.|-0.31              |5.985            |3            |1      |8        |31       |s3a://datalake-landing/datalake-raw-nba/nba/NBA_2022_Shots.csv|2025-06-02 18:56:41.957619|\n",
      "|2022    |2021-22 |1610612740|New Orleans Pelicans  |203468   |CJ McCollum          |G             |SG      |04-09-2022|22101213|MEM      |NOP      |Made Shot  |true     |Step Back Jump shot       |3PT Field Goal|Above the Break 3    |Right Side Center|RC      |24+ ft.        |1.12               |7.995            |24           |3      |5        |32       |s3a://datalake-landing/datalake-raw-nba/nba/NBA_2022_Shots.csv|2025-06-02 18:56:41.957619|\n",
      "|2022    |2021-22 |1610612755|Philadelphia 76ers    |203954   |Joel Embiid          |C             |C       |04-09-2022|22101214|PHI      |IND      |Made Shot  |true     |Layup Shot                |2PT Field Goal|Restricted Area      |Center           |C       |Less Than 8 ft.|0.15               |5.885            |1            |1      |7        |56       |s3a://datalake-landing/datalake-raw-nba/nba/NBA_2022_Shots.csv|2025-06-02 18:56:41.957619|\n",
      "|2022    |2021-22 |1610612744|Golden State Warriors |1626172  |Kevon Looney         |C             |C       |04-09-2022|22101215|SAS      |GSW      |Missed Shot|false    |Driving Layup Shot        |2PT Field Goal|Restricted Area      |Center           |C       |Less Than 8 ft.|-0.15              |5.765            |1            |1      |7        |11       |s3a://datalake-landing/datalake-raw-nba/nba/NBA_2022_Shots.csv|2025-06-02 18:56:41.957619|\n",
      "|2022    |2021-22 |1610612742|Dallas Mavericks      |1628425  |Sterling Brown       |G             |SG      |04-08-2022|22101209|DAL      |POR      |Made Shot  |true     |Cutting Layup Shot        |2PT Field Goal|Restricted Area      |Center           |C       |Less Than 8 ft.|0.01               |5.825            |0            |4      |3        |17       |s3a://datalake-landing/datalake-raw-nba/nba/NBA_2022_Shots.csv|2025-06-02 18:56:41.957619|\n",
      "|2022    |2021-22 |1610612749|Milwaukee Bucks       |203507   |Giannis Antetokounmpo|F             |PF      |04-08-2022|22101203|DET      |MIL      |Made Shot  |true     |Finger Roll Layup Shot    |2PT Field Goal|Restricted Area      |Center           |C       |Less Than 8 ft.|-0.21              |5.735            |2            |3      |0        |1        |s3a://datalake-landing/datalake-raw-nba/nba/NBA_2022_Shots.csv|2025-06-02 18:56:41.957619|\n",
      "|2022    |2021-22 |1610612751|Brooklyn Nets         |1630556  |Kessler Edwards      |F             |SF      |04-08-2022|22101205|BKN      |CLE      |Missed Shot|false    |Jump Shot                 |3PT Field Goal|Right Corner 3       |Right Side       |R       |24+ ft.        |2.35               |5.965            |23           |3      |4        |21       |s3a://datalake-landing/datalake-raw-nba/nba/NBA_2022_Shots.csv|2025-06-02 18:56:41.957619|\n",
      "+--------+--------+----------+----------------------+---------+---------------------+--------------+--------+----------+--------+---------+---------+-----------+---------+--------------------------+--------------+---------------------+-----------------+--------+---------------+-------------------+-----------------+-------------+-------+---------+---------+--------------------------------------------------------------+--------------------------+\n",
      "only showing top 20 rows\n",
      "\n"
     ]
    }
   ],
   "source": [
    "spark.sql(\"SELECT * FROM nba_bronze.nba\").show(truncate=False)"
   ]
  },
  {
   "cell_type": "code",
   "execution_count": null,
   "id": "92d50328-517f-40d3-9280-5ef0dc13bf68",
   "metadata": {},
   "outputs": [],
   "source": []
  }
 ],
 "metadata": {
  "kernelspec": {
   "display_name": "Python 3 (ipykernel)",
   "language": "python",
   "name": "python3"
  },
  "language_info": {
   "codemirror_mode": {
    "name": "ipython",
    "version": 3
   },
   "file_extension": ".py",
   "mimetype": "text/x-python",
   "name": "python",
   "nbconvert_exporter": "python",
   "pygments_lexer": "ipython3",
   "version": "3.8.13"
  }
 },
 "nbformat": 4,
 "nbformat_minor": 5
}
